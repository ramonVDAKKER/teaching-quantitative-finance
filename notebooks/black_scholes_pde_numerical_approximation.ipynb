{
  "cells": [
    {
      "cell_type": "markdown",
      "metadata": {
        "id": "view-in-github",
        "colab_type": "text"
      },
      "source": [
        "<a href=\"https://colab.research.google.com/github/ramonVDAKKER/teaching-quantitative-finance/blob/main/notebooks/black_scholes_pde_numerical_approximation.ipynb\" target=\"_parent\"><img src=\"https://colab.research.google.com/assets/colab-badge.svg\" alt=\"Open In Colab\"/></a>"
      ]
    },
    {
      "cell_type": "markdown",
      "metadata": {
        "id": "qLwR5_RWlpAP"
      },
      "source": [
        "# Quantitative Finance - solving the Black-Scholes Partial Differential Equation numerically"
      ]
    },
    {
      "cell_type": "markdown",
      "metadata": {
        "id": "PuL3skPZPcKg"
      },
      "source": [
        "## 1. Background and setup"
      ]
    },
    {
      "cell_type": "markdown",
      "metadata": {
        "id": "T_jy-aT3a6Dl"
      },
      "source": [
        "### 1.1 Setup"
      ]
    },
    {
      "cell_type": "markdown",
      "metadata": {
        "id": "FJ5aDcEvUyE_"
      },
      "source": [
        "We consider the standard Black-Scholes market in which two assets are traded. A risky asset (stock) is traded with price process described by the SDE \n",
        "$$dS_t = \\mu S_t dt +\\sigma S_t dW_t,$$\n",
        "where $S_0=s_0>0$, $W$ is a standard Brownian motion, and $\\mu,\\sigma>0$. The second asset is a money-market-account described by\n",
        "$$dB_t = r B_t dt,$$\n",
        "where $r$ denotes the (deterministic) interest and $B_0=b_0>0$. As usual, 'frictionless' trading is assumed (no restrictions on short selling, no restrictions on fractional positions, trading in continuous-time, no transaction costs). "
      ]
    },
    {
      "cell_type": "markdown",
      "metadata": {
        "id": "EvWTkgJ_bALE"
      },
      "source": [
        "### 1.2 Self-financing Markovian portfolios and the Black-Scholes Partial Differential Equation"
      ]
    },
    {
      "cell_type": "markdown",
      "metadata": {
        "id": "YftYZR31bAV6"
      },
      "source": [
        "Consider a maturity $T>0$ (corresponding to the expiration dates of options that we will consider). \n",
        "For the above market we consider self-financing, Markovian trading strategies. So the price/value of the portfolio at time $t$ can be written as $V_t = F(t, S_t)$ for a fixed function $F$. "
      ]
    },
    {
      "cell_type": "markdown",
      "metadata": {
        "id": "eJQBpCsWNf9l"
      },
      "source": [
        "We have seen that such a function $F$ is a solution to the equation (the Black-Scholes Partial Differential Equations)\n",
        "$$\n",
        "\\frac{\\delta G}{\\delta t}(t,s) + r s \\frac{\\partial G}{\\partial\n",
        "s}(t,s) + \\frac{1}{2}\\sigma^2 s^2 \\frac{\\partial^2 G}{\\partial\n",
        "s^2}(t,s) -r G(t,s)=0\\quad \\forall s\\in (0,\\infty),\\quad \\forall t\\in [0,T].\\qquad(\\star)\n",
        "$$ "
      ]
    },
    {
      "cell_type": "markdown",
      "metadata": {
        "id": "XK5oPsMAbMRu"
      },
      "source": [
        "### 1.3 Application to pricing of European options"
      ]
    },
    {
      "cell_type": "markdown",
      "metadata": {
        "id": "yuPZlLH_OQoq"
      },
      "source": [
        "If we want to price, using the no-arbitrage principle, a European option that has payoff $h(S_T)$ at maturity $T$, then we can exploit the Black-Scholes Partial Differential Equation as follows:\n",
        "\n",
        "\n",
        "*   Solve the PDE $(\\star)$ under the boundary condition $G(s,T) = h(s)$ for all $s>0$. Denote the solution by $F$.\n",
        "*   In this case $F(t,S_t)$ is the value/price of the self-financing portfolio that has value $h(S_T)$ at $t=T$.\n",
        "*   No-arbitrage thus implies that the price of the option, for $t\\in [0,T)$, must be given by $p_t = F(t,S_t)$.\n",
        "\n"
      ]
    },
    {
      "cell_type": "markdown",
      "metadata": {
        "id": "Wr1vhoj7ba8Q"
      },
      "source": [
        "### 1.4 Need for numerical approach to solve the PDE"
      ]
    },
    {
      "cell_type": "markdown",
      "metadata": {
        "id": "2Qm-jlNlU-g_"
      },
      "source": [
        "\n",
        "Sometimes it is possible to find an analytical solution to the PDE in combination with a boundary condition (for example, the Black-Scholes formula for the price of a European call option).\n",
        "*   The Black-Scholes PDE can be transformed into the heat equation. The heat equation is a PDE that is relevant in physics and because of that a well-studied object in mathematics and physics.\n",
        "*   So if you need to price a derivative with payoff $h(S_T)$ you can try to rewrite the problem in terms of the heat equation and to consult the literature related to the heat equation whether an analytical solution is known for this boundary condition.\n",
        "\n",
        "In case we are not able to obtain a closed-form solution to the PDE, we can resort to numerical techniques to obtain an approximation to the solution. Below we discuss one of the simplest numerical algorithms.\n"
      ]
    },
    {
      "cell_type": "markdown",
      "metadata": {
        "id": "K5_YuJ0nPgge"
      },
      "source": [
        "## 2. The algorithm"
      ]
    },
    {
      "cell_type": "markdown",
      "metadata": {
        "id": "ZQ6qcHIEVhiG"
      },
      "source": [
        "Divide the time-interval $[0, T]$ into $N$ equally sized subintervals of length $dt$. The price of the underlying asset will in principle take values in $[0,\\infty)$. In the algorithm an artificial limit,  $S_{\\text{max}}$ is introduced. The size of\n",
        "$S_{\\text{max}}$ requires experimentation. It is not hard to imagine that this choice should be related to the shape of $s\\mapsto h(s)$.\n",
        "Next, the interval $[0, S_{\\text{max}}]$ is divided into $M$ equally sized subintervals of length $ds$.\n",
        "So we are going to approximate the continuous space $[0, T]\\times [0,\\infty)$ by a finite grid $(t_i, s_j )$, where $t_i = i\\cdot dt$ and\n",
        "$s_j = j\\cdot ds$, $i\\in\\{0, 1, . . . ,N\\}$ and $j\\in\\{0, 1, . . . ,M\\}$.\n",
        "\n",
        "In the following we abbreviate $G(t_i,s_j)$ to $G_{i,j}$.\n",
        "Next we use the following approximations to the derivatives,\n",
        "$$\\frac{\\partial G}{\\partial s}(t_i,s_j)\\approx \\frac{ G_{i,j+1} -G_{i,j-1}} {2 ds }, $$\n",
        "$$\n",
        "\\frac{\\partial^2 G}{\\partial s^2}(t_i,s_j)\\approx\\frac{ G_{i,j+1} -2G_{i,j} +G_{i,j-1}} { (ds)^2 },\n",
        "$$\n",
        "$$\n",
        "\\frac{\\partial G}{\\partial t}(t_i,s_j)\\approx \\frac{ G_{i+1,j} -G_{i,j}} {dt }.\n",
        "$$\n"
      ]
    },
    {
      "cell_type": "markdown",
      "metadata": {
        "id": "2zK_uLlJVh6a"
      },
      "source": [
        "Inserting these approximations into the Black-Scholes PDE $(\\star)$ we arrive at\n",
        "\\begin{align*}\n",
        "\\frac{ G_{i+1,j} -G_{i,j}} {dt } + rj\\cdot ds \\frac{ G_{i,j+1} -G_{i,j-1}} {2 ds }  + \\frac{1}{2}\\sigma^2 (j\\cdot ds)^2\n",
        "\\frac{ G_{i,j+1} -2G_{i,j} +G_{i,j-1}} { (ds)^2 }\n",
        "-r G_{i,j}=0.\n",
        "\\end{align*}\n",
        "Note that the $G_{i,j}$ pop up linearly. We will exploit this by setting up a asystem of linear equations from which we will solve for the $G_{i,j}$.\n",
        "\n",
        "Introducing\n",
        "\\begin{align*}\n",
        "a_j &= \\frac{1}{2}rjdt - \\frac{1}{2}\\sigma^2j^2dt, \\\\\n",
        "b_j &= 1 + \\sigma^2j^2 dt + rdt, \\\\\n",
        "c &= -\\frac{1}{2}rjdt - \\frac{1}{2}\\sigma^2 j^2dt,\n",
        "\\end{align*}\n",
        "we can rewrite the equation as follows:\n",
        "\\begin{align*}\n",
        "a_j G_{i,j-1}+b_j G_{i,j}+c_j G_{i,j+1}- G_{i+1,j}=0.\n",
        "\\end{align*}"
      ]
    },
    {
      "cell_type": "markdown",
      "metadata": {
        "id": "DwKVat3i58nA"
      },
      "source": [
        "Fixing $i\\in\\{0,\\dots,N-1\\}$ and reformulating the equations of the previous display into matrix notation we obtain\n",
        "\n",
        "\\begin{align*}\n",
        "\\begin{pmatrix}\n",
        "b_1 & c_1 & 0   & 0   & 0   & \\cdots   & 0 \\\\\n",
        "a_2 & b_2 & c_2 & 0   & 0   & \\cdots   & 0 \\\\\n",
        "0   & a_3 & b_3 & c_3 & 0   & \\cdots   & 0 \\\\\n",
        "\\vdots & \\ddots & \\ddots & \\ddots & \\ddots & \\ddots & \\vdots \\\\\n",
        "\\vdots & \\vdots & \\ddots & \\ddots & \\ddots & \\ddots & \\vdots \\\\\n",
        "0      &   0    &0 &0 & a_{M-2} & b_{M-2} & c_{M-2}  \\\\\n",
        "0 & 0 & 0 & 0 & 0 & a_{M-1} & b_{M-1}\n",
        "\\end{pmatrix}\n",
        "\\begin{pmatrix}\n",
        "G_{i,1} \\\\ \\vdots \\\\ \\vdots \\\\ \\vdots \\\\ \\vdots \\\\ G_{i,M-1}\n",
        "\\end{pmatrix}\n",
        "=\n",
        "\\begin{pmatrix}\n",
        "G_{i+1,1}-a_1 G_{i,0}\n",
        "\\\\\n",
        "G_{i+1,2}\n",
        "\\\\\n",
        "\\\\ \\vdots \\\\ \\vdots \\\\  G_{i+1,M-2} \\\\ G_{i+1,M-1}-c_{M-1} G_{i+1,M}\n",
        "\\end{pmatrix}.\n",
        "\\end{align*}\n",
        "\n",
        "The boundary values $G_{i,0}$ and $G_{i,M}$ should be derived by ad hoc arguments and are specific for the derivative of interest.\n",
        "For example, for a European put option, $h(s)=\\max\\{K-s,0\\}$, we set $G_{i,0}=K$ and $G_{i,M}=0$.\n",
        "\n",
        "Below we consider a basic implementation in Python."
      ]
    },
    {
      "cell_type": "markdown",
      "metadata": {
        "id": "9eGcPbhGl1yS"
      },
      "source": [
        "## 3. Implementation in Python"
      ]
    },
    {
      "cell_type": "markdown",
      "metadata": {
        "id": "hT90LxrteKHq"
      },
      "source": [
        "### 3.1 Imports"
      ]
    },
    {
      "cell_type": "code",
      "execution_count": 1,
      "metadata": {
        "id": "l4fNRmrUlx6k"
      },
      "outputs": [],
      "source": [
        "import numpy as np\n",
        "from scipy.sparse import diags\n",
        "from scipy.sparse.linalg import spsolve\n",
        "import matplotlib.pyplot as plt\n",
        "from mpl_toolkits.mplot3d import Axes3D\n",
        "import matplotlib.pyplot as plt\n",
        "from scipy.stats import norm"
      ]
    },
    {
      "cell_type": "markdown",
      "metadata": {
        "id": "nUEtghU2XpfV"
      },
      "source": [
        "### 3.2 Algorithm"
      ]
    },
    {
      "cell_type": "code",
      "execution_count": 2,
      "metadata": {
        "id": "moXje8axfn1Z"
      },
      "outputs": [],
      "source": [
        "class NumericalProxyPDE:\n",
        "    \"\"\"Class implementing the algorithm that has been described above.\"\"\"\n",
        "\n",
        "    def __init__(\n",
        "        self,\n",
        "        Smax: float,\n",
        "        dS: float,\n",
        "        K: float,\n",
        "        dT: float,\n",
        "        T: float,\n",
        "        r: float,\n",
        "        sigma: float,\n",
        "    ):\n",
        "\n",
        "        self.M = int(np.ceil(Smax / dS))  # number of points in grid for stockprice\n",
        "        self.ds = Smax / self.M  # mesh in grid for stockprice\n",
        "        self.N = int(np.ceil(T / dT))  # number of points in grid for time\n",
        "        self.dt = T / self.N  # mesh in grid for time\n",
        "        self.t = np.linspace(0, T, self.N + 1)\n",
        "        self.S = np.linspace(0, Smax, self.M + 1)\n",
        "        J = np.arange(1, self.M - 1 + 1)\n",
        "        self.a = 0.5 * r * J * self.dt - 0.5 * sigma ** 2 * J ** 2 * self.dt\n",
        "        b = 1 + sigma ** 2 * self.dt * J ** 2 + r * self.dt\n",
        "        self.c = -0.5 * r * self.dt * J - 0.5 * sigma ** 2 * self.dt * J ** 2\n",
        "        self.A = diags([self.a[1:], b, self.c[:-1]], offsets=[-1, 0, 1])\n",
        "        self.G = np.zeros((self.N + 1, self.M + 1))  # time x stock price\n",
        "        self.Smax = Smax\n",
        "\n",
        "    def solve_pde(self, boundary_equation_maturity, boundary_equation_smax):\n",
        "\n",
        "        # set boundary conditions (for payoff at maturity):\n",
        "        self.G[self.N, :] = boundary_equation_maturity(\n",
        "            self.S\n",
        "        )  # boundary at t=T, i.e. pay-off\n",
        "        self.G[:, self.M] = boundary_equation_smax(\n",
        "            self.t\n",
        "        )  # boundary a t  and S=Smax, note that this approximation only makes sense if Smax is large enough!\n",
        "        self.G[:, 0] = boundary_equation_maturity(0)  # if S = 0 then S_t is constant\n",
        "        # set up difference equation\n",
        "\n",
        "        # solve V recursively\n",
        "        for i in range(self.N, 0, -1):\n",
        "            y = np.ravel(self.G[i, 1 : self.M])\n",
        "            y[0] = y[0] - self.a[0] * boundary_equation_maturity(0)\n",
        "            y[-1] = y[-1] - self.c[-1] * boundary_equation_smax(self.Smax)\n",
        "\n",
        "            self.G[i - 1, 1 : self.M] = np.transpose(spsolve(self.A, y))\n",
        "\n",
        "\n",
        "class SolvePDEBoundaryNumerically(NumericalProxyPDE):\n",
        "    def __init__(\n",
        "        self,\n",
        "        Smax: float,\n",
        "        dS: float,\n",
        "        K: float,\n",
        "        dT: float,\n",
        "        T: float,\n",
        "        r: float,\n",
        "        sigma: float,\n",
        "        boundary_equation_maturity,\n",
        "        boundary_equation_smax,\n",
        "    ):\n",
        "\n",
        "        super().__init__(Smax, dS, K, dT, T, r, sigma)\n",
        "        self.solve_pde(boundary_equation_maturity, boundary_equation_smax)\n",
        "\n",
        "    def plot_price(self):\n",
        "\n",
        "        f, ax = plt.subplots(figsize=(25, 7))\n",
        "        ax.plot(self.S, self.G[0, :])\n",
        "        ax.set_title(\"Price option at t=0 as function of $s_0$\")\n",
        "        ax.set_xlabel(\"s_0\")\n",
        "        ax.set_ylabel(\"price option\")\n",
        "        return ax\n",
        "\n",
        "    def price_specific_point(self, t, s):\n",
        "        \"\"\"Determines price option at time t for stock price S_t=s\"\"\"\n",
        "\n",
        "        nearest_idx_stock_price = np.where(abs(self.S - s) == abs(self.S - s).min())[0][\n",
        "            0\n",
        "        ]  # find index of point in stock price grid closest to S_0\n",
        "        nearest_idx_time = np.where(abs(self.t - t) == abs(self.t - t).min())[0][\n",
        "            0\n",
        "        ]  # find index of point in stock price grid closest to S_0\n",
        "        stock_price = self.S[\n",
        "            nearest_idx_stock_price\n",
        "        ]  # If you directly want the element of array (array) nearest to the given number (num)\n",
        "        time = self.t[nearest_idx_time]\n",
        "        print(\n",
        "            f\"The closest point to specified s on the grid is {stock_price} and the closest point to specified t is {time}\"\n",
        "        )\n",
        "        price = self.G[nearest_idx_time, nearest_idx_stock_price]\n",
        "        print(\n",
        "            f\"The (approximation to the) price of the option at t={time}, S_t={stock_price} is {price}\"\n",
        "        )\n",
        "        return price"
      ]
    },
    {
      "cell_type": "markdown",
      "metadata": {
        "id": "N__vsxzKmKVC"
      },
      "source": [
        "### 3.2.1 Application to European put option"
      ]
    },
    {
      "cell_type": "code",
      "execution_count": 3,
      "metadata": {
        "colab": {
          "base_uri": "https://localhost:8080/"
        },
        "id": "Zc6MrTajinAf",
        "outputId": "2ce2dd14-01c4-4a0b-90f9-5a5ef2d9ce7c"
      },
      "outputs": [
        {
          "output_type": "stream",
          "name": "stderr",
          "text": [
            "/usr/local/lib/python3.7/dist-packages/scipy/sparse/linalg/dsolve/linsolve.py:145: SparseEfficiencyWarning: spsolve requires A be CSC or CSR matrix format\n",
            "  SparseEfficiencyWarning)\n"
          ]
        }
      ],
      "source": [
        "s_0 = 100\n",
        "strike = 90\n",
        "sigma = 0.15\n",
        "r = 0.01\n",
        "T = 3\n",
        "put_boundary_maturity = lambda s: np.maximum(strike - s, 0)\n",
        "put_boundary_smax = lambda t: 0\n",
        "put = SolvePDEBoundaryNumerically(\n",
        "    Smax=250,\n",
        "    dS=0.01,\n",
        "    K=strike,\n",
        "    dT=0.01,\n",
        "    T=T,\n",
        "    r=r,\n",
        "    sigma=sigma,\n",
        "    boundary_equation_maturity=put_boundary_maturity,\n",
        "    boundary_equation_smax=put_boundary_smax,\n",
        ")"
      ]
    },
    {
      "cell_type": "code",
      "execution_count": 4,
      "metadata": {
        "colab": {
          "base_uri": "https://localhost:8080/",
          "height": 461
        },
        "id": "uVXvGqZti2I7",
        "outputId": "07aa6aa0-407f-49ec-ffd6-df145173e18d"
      },
      "outputs": [
        {
          "output_type": "display_data",
          "data": {
            "text/plain": [
              "<Figure size 1800x504 with 1 Axes>"
            ],
            "image/png": "[encoded data removed]"
          },
          "metadata": {
            "needs_background": "light"
          }
        }
      ],
      "source": [
        "ax = put.plot_price()"
      ]
    },
    {
      "cell_type": "code",
      "execution_count": 5,
      "metadata": {
        "colab": {
          "base_uri": "https://localhost:8080/"
        },
        "id": "o73dB_2kjLab",
        "outputId": "50479c17-f90f-4009-d82a-b37d5eeaba00"
      },
      "outputs": [
        {
          "output_type": "stream",
          "name": "stdout",
          "text": [
            "The closest point to specified s on the grid is 120.0 and the closest point to specified t is 0.5\n",
            "The (approximation to the) price of the option at t=0.5, S_t=120.0 is 1.0607490479022321\n"
          ]
        },
        {
          "output_type": "execute_result",
          "data": {
            "text/plain": [
              "1.0607490479022321"
            ]
          },
          "metadata": {},
          "execution_count": 5
        }
      ],
      "source": [
        "t = 0.5\n",
        "s = 120\n",
        "put.price_specific_point(t, s)"
      ]
    },
    {
      "cell_type": "markdown",
      "metadata": {
        "id": "6uitzFxDsd_5"
      },
      "source": [
        "Let us compare this numerical approximation to the output of the Black-Scholes formula."
      ]
    },
    {
      "cell_type": "code",
      "execution_count": 6,
      "metadata": {
        "id": "7aSkwES8idhC"
      },
      "outputs": [],
      "source": [
        "class BlackScholesOptionPrice:\n",
        "    \"\"\"Class for Black-Scholes price of European put and call options.\"\"\"\n",
        "\n",
        "    def __init__(self, strike: float, r: float, sigma: float):\n",
        "\n",
        "        self.r = r\n",
        "        self.sigma = sigma\n",
        "        self.strike = strike\n",
        "\n",
        "    def _d1_and_d2(self, current_stock_price, time_to_maturity):\n",
        "        \"\"\"Calculates auxiliary d_1 and d_2 which enter the N(0, 1) cdf in the pricing formulas\"\"\"\n",
        "\n",
        "        d1 = (\n",
        "            np.log(current_stock_price / self.strike)\n",
        "            + (self.r + 0.5 * self.sigma ** 2) * time_to_maturity\n",
        "        ) / (self.sigma * np.sqrt(time_to_maturity))\n",
        "        d2 = d1 - self.sigma * np.sqrt(time_to_maturity)\n",
        "        return d1, d2\n",
        "\n",
        "    def price_put(self, current_stock_price, time_to_maturity):\n",
        "        \"\"\"Calculates price of European put option\"\"\"\n",
        "\n",
        "        d1, d2 = self._d1_and_d2(current_stock_price, time_to_maturity)\n",
        "        return np.exp(-self.r * time_to_maturity) * self.strike * norm.cdf(\n",
        "            -d2\n",
        "        ) - current_stock_price * norm.cdf(-d1)\n",
        "\n",
        "    def price_call(self, current_stock_price, time_to_maturity):\n",
        "        \"\"\"Calculates price of European call option\"\"\"\n",
        "\n",
        "        d1, d2 = self._d1_and_d2(current_stock_price, time_to_maturity)\n",
        "        return current_stock_price * norm.cdf(d1) - np.exp(\n",
        "            -self.r * time_to_maturity\n",
        "        ) * self.strike * norm.cdf(d2)"
      ]
    },
    {
      "cell_type": "code",
      "execution_count": 7,
      "metadata": {
        "colab": {
          "base_uri": "https://localhost:8080/"
        },
        "id": "t1O-H_arm-jN",
        "outputId": "53519266-b7f3-4141-9896-e46b3820d28e"
      },
      "outputs": [
        {
          "output_type": "stream",
          "name": "stdout",
          "text": [
            "Exact price of put for strike=90, r=1.0%, sigma=15.0%, S_t=120, T-t=2.5: 1.06\n"
          ]
        }
      ],
      "source": [
        "current_stock_price = s\n",
        "time_to_maturity = T - t\n",
        "bs = BlackScholesOptionPrice(strike, r, sigma)\n",
        "price = bs.price_put(current_stock_price, time_to_maturity)\n",
        "print(\n",
        "    f\"Exact price of put for strike={strike}, r={100 * r}%, sigma={100 * sigma}%, S_t={current_stock_price}, T-t={time_to_maturity}: {np.round(price , 2)}\"\n",
        ")"
      ]
    },
    {
      "cell_type": "markdown",
      "metadata": {
        "id": "6-RBssD54Ngy"
      },
      "source": [
        "Finally, let us compare the price of the option at $t=0$ to the exact price for all starting values $s_0$."
      ]
    },
    {
      "cell_type": "code",
      "execution_count": 8,
      "metadata": {
        "colab": {
          "base_uri": "https://localhost:8080/",
          "height": 480
        },
        "id": "axsy7KLJ3d4i",
        "outputId": "c097c64a-f974-4e3a-cc05-8825e04c1a3d"
      },
      "outputs": [
        {
          "output_type": "execute_result",
          "data": {
            "text/plain": [
              "Text(0, 0.5, 'price option')"
            ]
          },
          "metadata": {},
          "execution_count": 8
        },
        {
          "output_type": "display_data",
          "data": {
            "text/plain": [
              "<Figure size 1800x504 with 1 Axes>"
            ],
            "image/png": "[encoded data removed]"
          },
          "metadata": {
            "needs_background": "light"
          }
        }
      ],
      "source": [
        "ax = put.plot_price()\n",
        "bs = BlackScholesOptionPrice(strike, r, sigma)\n",
        "price = bs.price_put(put.S[1:], T)\n",
        "ax.plot(put.S[1:], price, color=\"r\")\n",
        "ax.set_title(\"Price option at t=0 (red=exact, blue=approximation) as function of $s_0$\")\n",
        "ax.set_xlabel(\"$s_0$\")\n",
        "ax.set_ylabel(\"price option\")"
      ]
    },
    {
      "cell_type": "markdown",
      "metadata": {
        "id": "UW-qRkrEvifq"
      },
      "source": [
        "### 3.2.2 Application to European call option"
      ]
    },
    {
      "cell_type": "code",
      "execution_count": 9,
      "metadata": {
        "colab": {
          "base_uri": "https://localhost:8080/"
        },
        "id": "M7vIdtRdvktT",
        "outputId": "35044db8-7ccc-4b71-f2e0-da0fa354fbb7"
      },
      "outputs": [
        {
          "output_type": "stream",
          "name": "stderr",
          "text": [
            "/usr/local/lib/python3.7/dist-packages/scipy/sparse/linalg/dsolve/linsolve.py:145: SparseEfficiencyWarning: spsolve requires A be CSC or CSR matrix format\n",
            "  SparseEfficiencyWarning)\n"
          ]
        }
      ],
      "source": [
        "s_0 = 100\n",
        "strike = 100\n",
        "sigma = 0.3\n",
        "r = 0.01\n",
        "T = 1\n",
        "Smax = 250\n",
        "call_boundary_maturity = lambda s: np.maximum(s - strike, 0)\n",
        "call_boundary_smax = lambda t: Smax - strike\n",
        "call = SolvePDEBoundaryNumerically(\n",
        "    Smax=Smax,\n",
        "    dS=0.005,\n",
        "    K=strike,\n",
        "    dT=0.005,\n",
        "    T=T,\n",
        "    r=r,\n",
        "    sigma=sigma,\n",
        "    boundary_equation_maturity=call_boundary_maturity,\n",
        "    boundary_equation_smax=call_boundary_smax,\n",
        ")"
      ]
    },
    {
      "cell_type": "code",
      "execution_count": 10,
      "metadata": {
        "colab": {
          "base_uri": "https://localhost:8080/",
          "height": 479
        },
        "id": "1FTbAyWwvzgS",
        "outputId": "e6af01e7-79c6-41fb-be02-0052e2c5f6c4"
      },
      "outputs": [
        {
          "output_type": "execute_result",
          "data": {
            "text/plain": [
              "<matplotlib.axes._subplots.AxesSubplot at 0x7fcb00d4c950>"
            ]
          },
          "metadata": {},
          "execution_count": 10
        },
        {
          "output_type": "display_data",
          "data": {
            "text/plain": [
              "<Figure size 1800x504 with 1 Axes>"
            ],
            "image/png": "[encoded data removed]"
          },
          "metadata": {
            "needs_background": "light"
          }
        }
      ],
      "source": [
        "call.plot_price()"
      ]
    },
    {
      "cell_type": "code",
      "execution_count": 11,
      "metadata": {
        "colab": {
          "base_uri": "https://localhost:8080/"
        },
        "id": "R5N-5zmvv3GV",
        "outputId": "c1d44756-da48-4864-beb6-1f42a32625a8"
      },
      "outputs": [
        {
          "output_type": "stream",
          "name": "stdout",
          "text": [
            "The closest point to specified s on the grid is 100.0 and the closest point to specified t is 0.0\n",
            "The (approximation to the) price of the option at t=0.0, S_t=100.0 is 12.360349958292826\n"
          ]
        },
        {
          "output_type": "execute_result",
          "data": {
            "text/plain": [
              "12.360349958292826"
            ]
          },
          "metadata": {},
          "execution_count": 11
        }
      ],
      "source": [
        "t = 0\n",
        "s = 100\n",
        "call.price_specific_point(t, s)"
      ]
    },
    {
      "cell_type": "code",
      "execution_count": 12,
      "metadata": {
        "colab": {
          "base_uri": "https://localhost:8080/"
        },
        "id": "m_LMjEepwEw5",
        "outputId": "918521e0-4a23-4d4f-aa1c-fd1e6a0300d3"
      },
      "outputs": [
        {
          "output_type": "stream",
          "name": "stdout",
          "text": [
            "Exact price of call for strike=100, r=1.0%, sigma=30.0%, S_t=100, T-t=1: 12.37\n"
          ]
        }
      ],
      "source": [
        "current_stock_price = s\n",
        "time_to_maturity = T - t\n",
        "bs = BlackScholesOptionPrice(strike, r, sigma)\n",
        "price = bs.price_call(current_stock_price, time_to_maturity)\n",
        "print(\n",
        "    f\"Exact price of call for strike={strike}, r={100 * r}%, sigma={100 * sigma}%, S_t={current_stock_price}, T-t={time_to_maturity}: {np.round(price , 2)}\"\n",
        ")"
      ]
    }
  ],
  "metadata": {
    "colab": {
      "collapsed_sections": [],
      "provenance": [],
      "include_colab_link": true
    },
    "kernelspec": {
      "display_name": "Python 3.8.8 ('base')",
      "language": "python",
      "name": "python3"
    },
    "language_info": {
      "codemirror_mode": {
        "name": "ipython",
        "version": 3
      },
      "file_extension": ".py",
      "mimetype": "text/x-python",
      "name": "python",
      "nbconvert_exporter": "python",
      "pygments_lexer": "ipython3",
      "version": "3.8.8"
    },
    "vscode": {
      "interpreter": {
        "hash": "ad2bdc8ecc057115af97d19610ffacc2b4e99fae6737bb82f5d7fb13d2f2c186"
      }
    }
  },
  "nbformat": 4,
  "nbformat_minor": 0
}