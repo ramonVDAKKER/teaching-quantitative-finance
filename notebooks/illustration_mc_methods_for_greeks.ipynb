{
  "nbformat": 4,
  "nbformat_minor": 0,
  "metadata": {
    "colab": {
      "provenance": [],
      "authorship_tag": "ABX9TyPgvDTok6e+OJJdqwtvmInC",
      "include_colab_link": true
    },
    "kernelspec": {
      "name": "python3",
      "display_name": "Python 3"
    },
    "language_info": {
      "name": "python"
    }
  },
  "cells": [
    {
      "cell_type": "markdown",
      "metadata": {
        "id": "view-in-github",
        "colab_type": "text"
      },
      "source": [
        "<a href=\"https://colab.research.google.com/github/ramonVDAKKER/teaching-quantitative-finance/blob/main/notebooks/illustration_mc_methods_for_greeks.ipynb\" target=\"_parent\"><img src=\"https://colab.research.google.com/assets/colab-badge.svg\" alt=\"Open In Colab\"/></a>"
      ]
    },
    {
      "cell_type": "markdown",
      "source": [
        "# Notebook illustration Monte Carlo approximation to the greeks\n",
        "\n",
        "In this notebook we consider a simple situation: we use the standard Black-Scholes market and consider the vega of a European call option. Of course, we have a closed-form formula available for this vega. We will approximate the vega using Monte Carlo methods and compare against the closed-form formula.\n"
      ],
      "metadata": {
        "id": "m-Sbs3MWnmNa"
      }
    },
    {
      "cell_type": "markdown",
      "source": [
        "## 0. Imports"
      ],
      "metadata": {
        "id": "8mrpn4IkqIGi"
      }
    },
    {
      "cell_type": "code",
      "source": [
        "%%capture\n",
        "!git clone https://github.com/ramonVDAKKER/teaching-quantitative-finance\n",
        "import os\n",
        "os.chdir(\"teaching-quantitative-finance/notebooks\")\n",
        "import numpy as np\n",
        "from scipy.stats import norm\n",
        "from utils.black_scholes import BlackScholesOptionPrice"
      ],
      "metadata": {
        "id": "mZRt3WrTqHN-"
      },
      "execution_count": null,
      "outputs": []
    },
    {
      "cell_type": "markdown",
      "source": [
        "## 1. Example"
      ],
      "metadata": {
        "id": "9amaE2H3qL0c"
      }
    },
    {
      "cell_type": "markdown",
      "source": [
        "Parameters:"
      ],
      "metadata": {
        "id": "yd_pdQ01oe7G"
      }
    },
    {
      "cell_type": "code",
      "source": [
        "# B:\n",
        "r = 0.01\n",
        "# S:\n",
        "S_0 = 100\n",
        "sigma = 0.2\n",
        "# call:\n",
        "T = 1\n",
        "K = 100"
      ],
      "metadata": {
        "id": "x2qTGoG4odG3"
      },
      "execution_count": null,
      "outputs": []
    },
    {
      "cell_type": "markdown",
      "source": [
        "Vega, at $t=0$, using closed-form formula:"
      ],
      "metadata": {
        "id": "IjBUpPTXqQEj"
      }
    },
    {
      "cell_type": "code",
      "source": [
        "call = BlackScholesOptionPrice(K, r, sigma)\n",
        "vega = call.vega_call(current_stock_price=S_0, time_to_maturity=T)\n",
        "print(f\"Exact vega: {vega}\")"
      ],
      "metadata": {
        "id": "ATzERyRfpDPE",
        "outputId": "4675e15b-9565-4958-c47b-3c52800c77b7",
        "colab": {
          "base_uri": "https://localhost:8080/"
        }
      },
      "execution_count": null,
      "outputs": [
        {
          "output_type": "stream",
          "name": "stdout",
          "text": [
            "Exact vega: 39.447933090788894\n"
          ]
        }
      ]
    },
    {
      "cell_type": "markdown",
      "source": [
        "### 1.1 Bump and Reprice using non-common random numbers (and one-sided finite difference)"
      ],
      "metadata": {
        "id": "vIkns2GpuDUA"
      }
    },
    {
      "cell_type": "code",
      "source": [
        "def approximate_vega_call_bump_reprice_osfd_noncommon(num_replications: int, T: int, sigma: float, r: float, K: float, h: float) -> float:\n",
        "    \"\"\"Bump and reprice (with non-common random numbers) approximation of the vega of European call option (in Black-Scholes market)\"\"\"\n",
        "\n",
        "    def aux(T: int, r: float, sigma: float) -> float:\n",
        "        \"\"\"Helper that yields Monte Carlo approximation to the option price\"\"\"\n",
        "        S_T =  S_0 * np.exp((r - 0.5 * sigma ** 2) * T + sigma *  np.sqrt(T) * norm.rvs(size=num_replications))\n",
        "        option_price_prox = np.exp(-r * T) * np.mean(np.maximum(S_T - K, 0))\n",
        "        return option_price_prox\n",
        "\n",
        "    return (aux(T, r, sigma + h) - aux(T, r, sigma)) / h"
      ],
      "metadata": {
        "id": "qZA-Emm9uHsc"
      },
      "execution_count": null,
      "outputs": []
    },
    {
      "cell_type": "code",
      "source": [
        "# Number of MC replications\n",
        "R = 100_000\n",
        "estimate_vega_osfd_noncommon = approximate_vega_call_bump_reprice_osfd_noncommon(R, T, sigma, r, K, h=0.01)\n",
        "print(f\"Estimated vega on basis of Bump and Reprice with one-sided finite-difference and using noncommon random numbers: {estimate_vega_osfd_noncommon}\")"
      ],
      "metadata": {
        "id": "3fIoMwkuwh80",
        "outputId": "8631938b-b274-4255-d38b-acdfcf616cdb",
        "colab": {
          "base_uri": "https://localhost:8080/"
        }
      },
      "execution_count": null,
      "outputs": [
        {
          "output_type": "stream",
          "name": "stdout",
          "text": [
            "Estimated vega on basis of Bump and Reprice with one-sided finite-difference and using noncommon random numbers: 46.377836077863854\n"
          ]
        }
      ]
    },
    {
      "cell_type": "markdown",
      "source": [
        "### 1.2 Bump and Reprice using common random numbers (and one-sided finite difference)"
      ],
      "metadata": {
        "id": "gvcUj8F7xNWD"
      }
    },
    {
      "cell_type": "code",
      "source": [
        "def approximate_vega_call_bump_reprice_osfd_common(num_replications: int, T: int, sigma: float, r: float, K: float, h: float) -> float:\n",
        "    \"\"\"Bump and reprice (with common random numbers) approximation of the vega of European call option (in Black-Scholes market)\"\"\"\n",
        "\n",
        "    W_Q_T = np.sqrt(T) * norm.rvs(size=num_replications)\n",
        "\n",
        "    S_T =  S_0 * np.exp((r - 0.5 * sigma ** 2) * T + sigma * W_Q_T)\n",
        "    option_price_prox = np.exp(-r * T) * np.mean(np.maximum(S_T - K, 0))\n",
        "\n",
        "    S_T_bump =  S_0 * np.exp((r - 0.5 * (sigma + h) ** 2) * T + (sigma + h) * W_Q_T)\n",
        "    option_price_prox_bump = np.exp(-r * T) * np.mean(np.maximum(S_T_bump - K, 0))\n",
        "\n",
        "    return (option_price_prox_bump - option_price_prox) / h"
      ],
      "metadata": {
        "id": "_A7VUz24xMqM"
      },
      "execution_count": null,
      "outputs": []
    },
    {
      "cell_type": "code",
      "source": [
        "estimate_vega_osfd_common = approximate_vega_call_bump_reprice_osfd_common(R, T, sigma, r, K, h=0.01)\n",
        "print(f\"Estimated vega on basis of Bump and Reprice with one-sided finite-difference and using common random numbers: {estimate_vega_osfd_common}\")"
      ],
      "metadata": {
        "id": "-ZVzzDUyx54-",
        "outputId": "ffed3862-70f6-4253-8ccc-ecccc856b576",
        "colab": {
          "base_uri": "https://localhost:8080/"
        }
      },
      "execution_count": null,
      "outputs": [
        {
          "output_type": "stream",
          "name": "stdout",
          "text": [
            "Estimated vega on basis of Bump and Reprice with one-sided finite-difference and using common random numbers: 39.32082035652442\n"
          ]
        }
      ]
    },
    {
      "cell_type": "markdown",
      "source": [
        "### 1.3 Pathwise method"
      ],
      "metadata": {
        "id": "P_Ecjapuf2Pn"
      }
    },
    {
      "cell_type": "code",
      "source": [
        "def approximate_vega_call_pathwise(num_replications: int, T: int, sigma: float, r: float, K: float) -> float:\n",
        "    \"\"\"Pathwise approximation of the vega of European call option (in Black-Scholes market)\"\"\"\n",
        "\n",
        "    W_Q_T = np.sqrt(T) * norm.rvs(size=num_replications)\n",
        "    S_T =  S_0 * np.exp((r - 0.5 * sigma ** 2) * T + sigma * W_Q_T)\n",
        "    f_prime = (S_T > K) * S_T * (W_Q_T - sigma * T)\n",
        "    return np.exp(-r * T) * np.mean(f_prime)"
      ],
      "metadata": {
        "id": "YrDDm1lTf7pi"
      },
      "execution_count": null,
      "outputs": []
    },
    {
      "cell_type": "code",
      "source": [
        "estimate_vega_pathwise =  approximate_vega_call_pathwise(R, T, sigma, r, K)\n",
        "print(f\"Estimated vega using pathwise method: {estimate_vega_pathwise}\")"
      ],
      "metadata": {
        "id": "l1PFLzG-g5jg",
        "outputId": "897dd6d7-3ab4-4cf1-b617-362b02ac42ec",
        "colab": {
          "base_uri": "https://localhost:8080/"
        }
      },
      "execution_count": null,
      "outputs": [
        {
          "output_type": "stream",
          "name": "stdout",
          "text": [
            "Estimated vega using pathwise method: 39.56686914281474\n"
          ]
        }
      ]
    },
    {
      "cell_type": "markdown",
      "source": [
        "### 1.4 Likelihood ratio method"
      ],
      "metadata": {
        "id": "auJl7dOFjBbQ"
      }
    },
    {
      "cell_type": "code",
      "source": [
        "def approximate_vega_call_lrm(num_replications: int, T: int, sigma: float, r: float, K: float) -> float:\n",
        "    \"\"\"LRM approximation of the vega of European call option (in Black-Scholes market)\"\"\"\n",
        "\n",
        "    W_Q_T = np.sqrt(T) * norm.rvs(size=num_replications)\n",
        "    S_T =  S_0 * np.exp((r - 0.5 * sigma ** 2) * T + sigma * W_Q_T)\n",
        "    d_log_likelihood_d_sigma = (W_Q_T ** 2 - T) / sigma - W_Q_T\n",
        "    payoff = np.maximum(S_T - K, 0)\n",
        "    return np.exp(-r * T) * np.mean(payoff * d_log_likelihood_d_sigma)"
      ],
      "metadata": {
        "id": "jUB_Z_IXhVaD"
      },
      "execution_count": null,
      "outputs": []
    },
    {
      "cell_type": "code",
      "source": [
        "estimate_vega_lrm =  approximate_vega_call_lrm(R, T, sigma, r, K)\n",
        "print(f\"Estimated vega using LRM: {estimate_vega_lrm}\")"
      ],
      "metadata": {
        "id": "wyRrH8BVjLTo",
        "outputId": "1b2d6585-97b9-46c3-bda5-14ca76a5f224",
        "colab": {
          "base_uri": "https://localhost:8080/"
        }
      },
      "execution_count": null,
      "outputs": [
        {
          "output_type": "stream",
          "name": "stdout",
          "text": [
            "Estimated vega using LRM: 40.062780092130346\n"
          ]
        }
      ]
    },
    {
      "cell_type": "code",
      "source": [],
      "metadata": {
        "id": "Uuw9hmtQkwhW"
      },
      "execution_count": null,
      "outputs": []
    }
  ]
}