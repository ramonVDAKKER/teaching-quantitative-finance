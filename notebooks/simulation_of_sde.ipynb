{
  "cells": [
    {
      "cell_type": "markdown",
      "metadata": {
        "id": "view-in-github",
        "colab_type": "text"
      },
      "source": [
        "<a href=\"https://colab.research.google.com/github/ramonVDAKKER/teaching-quantitative-finance/blob/main/notebooks/simulation_of_sde.ipynb\" target=\"_parent\"><img src=\"https://colab.research.google.com/assets/colab-badge.svg\" alt=\"Open In Colab\"/></a>"
      ]
    },
    {
      "cell_type": "markdown",
      "metadata": {
        "id": "EW2t2hESd-hF"
      },
      "source": [
        "# Notebook simulation of stochastic processes"
      ]
    },
    {
      "cell_type": "markdown",
      "metadata": {
        "id": "u5vJDHmKeFz2"
      },
      "source": [
        "This notebook accompanies the course **Quantitative Finance** (BSc Econometrics and OR, Tilburg University) and considers the simulation of stochastic processes. The following processes will be considered:\n",
        "\n",
        "\n",
        "*   Brownian motion;\n",
        "*   Brownian motion with drift;\n",
        "*   Geometric Brownian motion (GBM);\n",
        "*   Ito diffusion processes $dX_t=a(t, X_t)dt + b(t, X_t) dW_t$, where $W$ is a standard Brownian motion and $X_0=x_0$.\n",
        "\n"
      ]
    },
    {
      "cell_type": "markdown",
      "metadata": {
        "id": "oK_6bg8Je7aq"
      },
      "source": [
        "## 0. Imports"
      ]
    },
    {
      "cell_type": "code",
      "execution_count": null,
      "metadata": {
        "id": "mTRsUROyyil2"
      },
      "outputs": [],
      "source": [
        "import numpy as np\n",
        "import pandas as pd\n",
        "from ipywidgets import interact\n",
        "import matplotlib.pyplot as plt"
      ]
    },
    {
      "cell_type": "markdown",
      "metadata": {
        "id": "ORvmRF6xMbkr"
      },
      "source": [
        "## 1. Brownian motion, Brownian motion with drift, and Geometric Brownian motion"
      ]
    },
    {
      "cell_type": "markdown",
      "metadata": {
        "id": "QFHaGmQfXdDk"
      },
      "source": [
        "The following cell introduces classes to simulate a Brownian motion, a Brownian motion with drift, and a Geometric Brownian motion."
      ]
    },
    {
      "cell_type": "code",
      "execution_count": null,
      "metadata": {
        "id": "ZAGSG0e36xJO"
      },
      "outputs": [],
      "source": [
        "class StochasticProcess:\n",
        "    \"\"\"Base class for simulating stochastic processes.\n",
        "\n",
        "    Warning: This class should not be used directly. Use derived classes instead.\n",
        "    \"\"\"\n",
        "\n",
        "    def __init__(self, name, time_grid, paths):\n",
        "        self.name = name\n",
        "        self.time_grid = time_grid\n",
        "        self.paths = paths\n",
        "        self.params = None\n",
        "\n",
        "    def plot(self, num_paths=5):\n",
        "        \"\"\"Plots (minimum of number of available sample paths and num_paths) sample paths.\n",
        "\n",
        "        Args:\n",
        "            num_paths (int): number of sample paths to be plotted. Defaults to 5.\n",
        "        \"\"\"\n",
        "\n",
        "        num_paths = min(self.paths.shape[0], num_paths)\n",
        "        paths = self.paths[:num_paths, :].T\n",
        "        title = f\"{num_paths} simulated sample paths from {self.name}\"\n",
        "        if self.params is not None:\n",
        "            title += f\" with parameters: {[(k, v) for k, v in self.params.items()]}\"\n",
        "        pd.DataFrame(\n",
        "            paths,\n",
        "            columns=[f\"path {j}\" for j in range(1, 1 + num_paths)],\n",
        "            index=self.time_grid,\n",
        "        ).plot(kind=\"line\", title=title, figsize=(25, 7))\n",
        "\n",
        "    def avg_and_var_over_simulations(self):\n",
        "        \"\"\"Calculates, for each point on time-grid, the mean and variance over sample paths.\"\"\"\n",
        "\n",
        "        if not self.paths.shape[0] > 0:\n",
        "            raise ValueError(\"Requires minimum of two paths.\")\n",
        "        fig, (ax1, ax2) = plt.subplots(1, 2, figsize=(25, 7))\n",
        "        aux = np.mean(self.paths, axis=0)\n",
        "        avg_df = pd.DataFrame(aux, columns=[\"Average over paths\"], index=self.time_grid)\n",
        "        avg_df.plot(kind=\"line\", title=\"Average over sample paths\", ax=ax1)\n",
        "        aux = np.var(self.paths, axis=0)\n",
        "        var_df = pd.DataFrame(\n",
        "            aux, columns=[\"Var over sample paths\"], index=self.time_grid\n",
        "        )\n",
        "        var_df.plot(kind=\"line\", title=\"Var over sample paths\", ax=ax2)\n",
        "        return avg_df, var_df\n",
        "\n",
        "\n",
        "class BrownianMotionWithDrift(StochasticProcess):\n",
        "    \"\"\"Class to simulate paths of a Brownian motion with drift, i.e. X_t = ct + W_t\"\"\"\n",
        "\n",
        "    def __init__(self, drift, sigma, n, T, time_step, seed=None):\n",
        "\n",
        "        if T < time_step:\n",
        "            raise ValueError(\"Maturity T should be larger than time step.\")\n",
        "        if sigma < 0:\n",
        "            raise ValueError(\"sigma should be strictly positive.\")\n",
        "        self.n = n\n",
        "        self.T = T\n",
        "        self.time_grid, self.time_step = np.linspace(\n",
        "            0, self.T, num=1 + int(T / time_step), endpoint=True, retstep=True\n",
        "        )  # note that time_step is adapted (if needed) in order to get equally-spaced grid\n",
        "        if seed is not None:\n",
        "            np.random.seed(seed)\n",
        "        aux = np.random.normal(loc=0.0, scale=1.0, size=(self.n, len(self.time_grid)-1))\n",
        "        aux = np.concatenate([np.zeros((self.n, 1)), aux], axis=1)\n",
        "        self.paths = (\n",
        "            np.cumsum(sigma * np.sqrt(time_step) * aux, axis=1) + drift * self.time_grid\n",
        "        )\n",
        "        super().__init__(\"Brownian Motion with drift\", self.time_grid, self.paths)\n",
        "        self.params = {\"drift c\": drift, \"sigma\": sigma}\n",
        "\n",
        "\n",
        "class BrownianMotion(BrownianMotionWithDrift):\n",
        "    \"\"\"Class to simulate paths of a Brownian motion\"\"\"\n",
        "\n",
        "    def __init__(self, sigma, n, T, time_step, seed=None):\n",
        "\n",
        "        super().__init__(0, sigma, n, T, time_step, seed)\n",
        "        self.name = \"Brownian Motion\"\n",
        "        self.params = {\"sigma\": sigma}\n",
        "\n",
        "\n",
        "class GeometricBrownianMotion(BrownianMotionWithDrift):\n",
        "    \"\"\"Class to simulate paths of a Geometric Brownian motion, i.e. X_t=X_0\\exp((mu-0.5sigma^2)t+sigma*W_t)\"\"\"\n",
        "\n",
        "    def __init__(self, starting_value, mu, sigma, n, T, time_step, seed=None):\n",
        "\n",
        "        super().__init__(mu - 0.5 * sigma ** 2, sigma, n, T, time_step, seed)\n",
        "        self.paths = starting_value * np.exp(self.paths)\n",
        "        self.name = \"Geometric Brownian Motion\"\n",
        "        self.params = {\"starting_value\": starting_value, \"mu\": mu, \"sigma\": sigma}\n"
      ]
    },
    {
      "cell_type": "markdown",
      "metadata": {
        "id": "SO9feaxbMbkt"
      },
      "source": [
        "## 1.1 Brownian motion"
      ]
    },
    {
      "cell_type": "markdown",
      "metadata": {
        "id": "qF-5uYvhMbkt"
      },
      "source": [
        "The following cell simulates and plots 10 sample paths of a standard Brownian motion on the time-interval $[0, 5]$ where we use a time-step equal to $0.001$. Run the cell a few time to get a feeling for the variety of the sample paths."
      ]
    },
    {
      "cell_type": "code",
      "execution_count": null,
      "metadata": {
        "id": "UunR7ygiMbku"
      },
      "outputs": [],
      "source": [
        "bm = BrownianMotion(sigma=1, n=10, T=5, time_step=0.001, seed=None)\n",
        "bm.plot(3)\n",
        "bm.paths[0:3, 0:5]"
      ]
    },
    {
      "cell_type": "markdown",
      "metadata": {
        "id": "jiGcLduFMbku"
      },
      "source": [
        "In case we want to be able to reproduce the simulated paths, we should fix the seed. See the following cell."
      ]
    },
    {
      "cell_type": "code",
      "execution_count": null,
      "metadata": {
        "id": "LsEwaiDGMbku"
      },
      "outputs": [],
      "source": [
        "bm = BrownianMotion(sigma=1, n=10, T=5, time_step=0.001, seed=42)\n",
        "bm.plot(3)"
      ]
    },
    {
      "cell_type": "markdown",
      "metadata": {
        "id": "Z5-JVKgzMbkv"
      },
      "source": [
        "We have $\\mathbb{E}W_t=0$ and $\\operatorname{var}(W_t) = \\sigma^2 t$. As a check on our code, we can try to verify these properties. Indeed, if we use a large number of sample paths $n$, then the law of large numbers implies that the sample mean of $W_t^{(i)}$, $i=1,\\dots,n$, i.e. the simulated values of the process at time $t$, provides an approximation to $\\mathbb{E}W_t=0$. Similarly, the sample variance of $W_t^{(i)}$, $i=1,\\dots,n$, provides an approximation to  $\\operatorname{var}(W_t)$. \n",
        "\n",
        "In the next cell we use $n=5000$ and compute the sample mean and sample variances of  $W_t^{(i)}$, $i=1,\\dots,n$, for all $t$ on the time-grid. Please note that, as a next step, we could develop a statistical test.]"
      ]
    },
    {
      "cell_type": "code",
      "execution_count": null,
      "metadata": {
        "id": "6luOfB4CMbkv"
      },
      "outputs": [],
      "source": [
        "bm = BrownianMotion(sigma=3, n=5000, T=5, time_step=0.001, seed=None)\n",
        "avg_df, var_df = bm.avg_and_var_over_simulations()\n",
        "display(avg_df.tail(1))\n",
        "display(var_df.tail(1))"
      ]
    },
    {
      "cell_type": "markdown",
      "metadata": {
        "id": "OxccaasEMbkv"
      },
      "source": [
        "## 1.2 Brownian motion with drift"
      ]
    },
    {
      "cell_type": "markdown",
      "metadata": {
        "id": "QYyyFZZrMbkv"
      },
      "source": [
        "In this section we consider a Brownian motion with drift, i.e. $X_t = ct + W_t$, where $W$ is a Brownian motion with variance $\\sigma^2$ per unit-of-time."
      ]
    },
    {
      "cell_type": "code",
      "execution_count": null,
      "metadata": {
        "id": "hHrknsSfzCQX"
      },
      "outputs": [],
      "source": [
        "bmwd = BrownianMotionWithDrift(drift=0.7, sigma=1, n=10, T=25, time_step=0.001, seed=None)\n",
        "bmwd.plot(10)"
      ]
    },
    {
      "cell_type": "markdown",
      "metadata": {
        "id": "543bVdQnMbkv"
      },
      "source": [
        "## 1.3 Geometric Brownian motion"
      ]
    },
    {
      "cell_type": "markdown",
      "metadata": {
        "id": "l41brqIYMbkw"
      },
      "source": [
        "In this section we discuss the Geometric Brownian motion. Recall that this process is described by the SDE $dX_t = \\mu X_t dt + \\sigma X_t dW_t$, where $X_0=x_0$ and $W$ is a standard Brownian motion. We have seen that this SDE has as solution $$X_t = X_0 \\exp\\left( (\\mu - 0.5\\sigma^2) t+ \\sigma W_t\\right).\\qquad(\\star)$$ So given a simulated path of $W$ we can obtain the simulated path of $X$. \n",
        "\n",
        "Note: in the next section we will discuss the Euler-method. This is a numerical approximation technique which we could have used to simulate, using the SDE, an approximation to $X_t$ in case we would not have been able to derive the closed-form solution $(\\star)$."
      ]
    },
    {
      "cell_type": "code",
      "execution_count": null,
      "metadata": {
        "id": "nqYm3nNuAara"
      },
      "outputs": [],
      "source": [
        "mu = 0.08\n",
        "sigma = 0.3\n",
        "gbm = GeometricBrownianMotion(starting_value=100, mu=mu, sigma=sigma, n=5, T=1, time_step=0.001, seed=None)"
      ]
    },
    {
      "cell_type": "code",
      "execution_count": null,
      "metadata": {
        "id": "Rix0BMaRzFeF"
      },
      "outputs": [],
      "source": [
        "@interact(mu=(0, 0.2), sigma=(0.01, 0.8))\n",
        "def aux_plot_gbm(mu, sigma):\n",
        "    gbm = GeometricBrownianMotion(starting_value=100, mu=mu, sigma=sigma, n=5, T=1, time_step=0.001, seed=None)\n",
        "    gbm.plot(5)"
      ]
    },
    {
      "cell_type": "markdown",
      "metadata": {
        "id": "ADMvYe5OfWjg"
      },
      "source": [
        "## 3. Simulating Ito Diffusion processes using the Euler method"
      ]
    },
    {
      "cell_type": "markdown",
      "metadata": {
        "id": "dlfIeoywvQ2P"
      },
      "source": [
        "In this section we consider the simulation of processes that are described by SDEs of the form $$d X_t = a(t,X_t) dt + b(t, X_t) dW_t,$$ with $X_0=x_0$, $W$ a standard Brownian motion and where $a$ and $b$ are deterministic functions.\n",
        "\n",
        "In special cases it is possible to obtain a closed-form solution which means that we can express $X_t$ in terms of $W_s$, $s\\leq t$ and $t$. As an example, let us consider the GBM $dX_t = \\mu X_t dt + \\sigma X_t dW_t$, $X_0=x_0$. The solution is given by $X_t = X_0 \\exp\\left( (\\mu - 0.5\\sigma^2) t+ \\sigma W_t\\right)$. So given a simulated path of $W$ we can obtain the simulated path of $X$.\n",
        "\n",
        "But how to proceed if we are not able to obtain a closed-form solution to the SDE? In that case we can resort to numerical approximations. Here we will discuss the Euler-method (also known as the Euler–Maruyama method).\n",
        "\n",
        "To motivate this method let us recall that the above SDE means that, for $t,h\\geq 0$, \n",
        "\\begin{equation}\n",
        "X_{t+h} - X_t  = \\int_t^{t+h} a(u, X_u) du + \\int_t^{t+h} b(u, X_u) dW_u.\n",
        "\\end{equation}\n",
        "Now insert the approximations, for $u\\in [t,t+h]$, $a(u,X_u) \\approx a(t, X_t)$ and \n",
        "$b(u,X_u)\\approx b(t, X_t)$. This yields\n",
        "\\begin{equation}\n",
        "X_{t+h} - X_t  \\approx a(t, X_t) h + b(t, X_t) (W_{t+h} -W_t).\n",
        "\\end{equation}\n",
        "This motivates the Euler-method. Simulate an approximation to $X$ via the following recursive scheme. Choose a (small) time-step $h>0$, set $X_0=x_0$, and simulate $X_{(k+1)h}$, for $k\\geq 0$, by\n",
        "$$X_{(k+1)h} = X_{kh} + a(kh, X_{kh}) h +  b(kh, X_{kh}) \\times \\epsilon_k,$$\n",
        "where $\\epsilon_k$, $k\\in\\mathbb{N}$, are i.i.d. draws from the $N(0,h)$ distribution.\n",
        "\n",
        "Warning: if we use the Euler-method for a given SDE, then we do not try or did not succeed to obtain a closed-form solution. However, one should still try to check (using the available sufficient conditions on the functions $a$ and $b$) if a solution to the SDE exists!"
      ]
    },
    {
      "cell_type": "code",
      "execution_count": null,
      "metadata": {
        "id": "BMpXURZ8Zuth"
      },
      "outputs": [],
      "source": [
        "class ItoDiffusionEuler(BrownianMotion):\n",
        "    \"\"\"Class to simulate approximations to solution of SDE dX_t = a(t, X_t) dt + b(t, X_t) dW_t,\n",
        "    X_0=x_0 and where W is a standard Brownian motion.\"\"\"\n",
        "        \n",
        "    def __init__(\n",
        "        self,\n",
        "        starting_value,\n",
        "        drift_function,\n",
        "        volatility_function,\n",
        "        n,\n",
        "        T,\n",
        "        time_step,\n",
        "        seed=None,\n",
        "    ):\n",
        "\n",
        "        super().__init__(1, n, T, time_step, seed)\n",
        "        self.name = \"Euler approximation to Ito diffusion dX_t=mu(X_t)+sigma(X_t)dW_t\"\n",
        "        self.dW = (\n",
        "            self.paths[:, 1:] - self.paths[:, :-1]\n",
        "        )  # increments standard Brownian motion\n",
        "        self.paths[:, 0] = starting_value\n",
        "        for j in range(1, self.paths.shape[1]):\n",
        "            previous = self.paths[:, j - 1]\n",
        "            self.paths[:, j] = (\n",
        "                previous\n",
        "                + drift_function(self.time_grid[j - 1], previous) * self.time_step\n",
        "                + volatility_function(self.time_grid[j - 1], previous)\n",
        "                * self.dW[:, j - 1]\n",
        "            )\n",
        "        self.params = {\"drift\": drift_function, \"volatility\": volatility_function}"
      ]
    },
    {
      "cell_type": "markdown",
      "metadata": {
        "id": "fyFLcuNMzxzP"
      },
      "source": [
        "## 3.1 Geometric Brownian motion reconsidered"
      ]
    },
    {
      "cell_type": "markdown",
      "metadata": {
        "id": "5fenmo19Mbkx"
      },
      "source": [
        "$dX_t = \\mu X_t dt + \\sigma X_t dW_t$, so $a(t,x)=\\mu x$ and $b(t,x)=\\sigma x$."
      ]
    },
    {
      "cell_type": "code",
      "execution_count": null,
      "metadata": {
        "id": "fU8_493vb5Ao"
      },
      "outputs": [],
      "source": [
        "mu = 0.07\n",
        "sigma = 0.2\n",
        "drift_gbm = lambda t, x: mu * x\n",
        "vol_gbm = lambda t, x: sigma * x\n",
        "\n",
        "s = ItoDiffusionEuler(starting_value=100, drift_function=drift_gbm, volatility_function=vol_gbm, n=10, T=3, time_step=0.001, seed=None)\n",
        "s.plot(10)"
      ]
    },
    {
      "cell_type": "markdown",
      "metadata": {
        "id": "96lGhD-XMbkx"
      },
      "source": [
        "## 3.2 Cox-Ingersoll-Ross"
      ]
    },
    {
      "cell_type": "markdown",
      "metadata": {
        "id": "8pR-4baxMbkx"
      },
      "source": [
        "$dX_t = \\alpha(\\beta-X_t) dt + \\sigma \\sqrt{ X_t^+} dW_t$, so $a(t,x)= \\alpha(\\beta-x)$ and $b(t,x)=\\sigma \\sqrt{\\max\\{0,x\\}}$."
      ]
    },
    {
      "cell_type": "code",
      "execution_count": null,
      "metadata": {
        "id": "GYvgzw3xcED8"
      },
      "outputs": [],
      "source": [
        "@interact(a=(-2.0, 2.0), b=(50, 120), sigma=(0.01, 0.5))\n",
        "def aux_plot_cir(a, b, sigma):\n",
        "    drift_cir = lambda t, x: a * (b - x)\n",
        "    vol_cir = lambda t, x: sigma * np.sqrt(np.max(x, 0))\n",
        "    s = ItoDiffusionEuler(\n",
        "        starting_value=100,\n",
        "        drift_function=drift_cir,\n",
        "        volatility_function=vol_cir,\n",
        "        n=10,\n",
        "        T=25,\n",
        "        time_step=0.001,\n",
        "        seed=None,\n",
        "    )\n",
        "    s.plot(10)"
      ]
    },
    {
      "cell_type": "markdown",
      "metadata": {
        "id": "bCcAiSTKAarc"
      },
      "source": [
        "**Remarks**\n",
        "- It can be proved, under parameter conditions $\\alpha,\\beta\\geq 0$ and $2\\alpha\\beta >\\sigma^2$, that the exact solution to the SDE is positive. So $X_t^+$ can be replaced by $X_t$. However, this does not mean that the Euler-method is guaranteed to yield nonnegative paths, so we use $x^+$ in our implementation.\n",
        "- Although a closed-form solution of the form $X_t = f( W_s,\\, s\\leq t)$ is not available for the CIR-process,  the conditional distribution of $X_{t+h}$ given $\\mathcal{F}_t$ is known (under the aforementioned parameter conditions). This can be used to obtain simulations from the exact solution to the SDE (on a (discrete) time-grid)."
      ]
    }
  ],
  "metadata": {
    "colab": {
      "collapsed_sections": [],
      "provenance": [],
      "include_colab_link": true
    },
    "kernelspec": {
      "display_name": "Python 3.8.8 ('base')",
      "language": "python",
      "name": "python3"
    },
    "language_info": {
      "codemirror_mode": {
        "name": "ipython",
        "version": 3
      },
      "file_extension": ".py",
      "mimetype": "text/x-python",
      "name": "python",
      "nbconvert_exporter": "python",
      "pygments_lexer": "ipython3",
      "version": "3.8.8"
    },
    "vscode": {
      "interpreter": {
        "hash": "ad2bdc8ecc057115af97d19610ffacc2b4e99fae6737bb82f5d7fb13d2f2c186"
      }
    }
  },
  "nbformat": 4,
  "nbformat_minor": 0
}