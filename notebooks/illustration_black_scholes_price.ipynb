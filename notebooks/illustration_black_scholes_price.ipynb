{
  "nbformat": 4,
  "nbformat_minor": 0,
  "metadata": {
    "colab": {
      "provenance": [],
      "collapsed_sections": [],
      "authorship_tag": "ABX9TyPEUr34wpdjvDmePnTfg0yP",
      "include_colab_link": true
    },
    "kernelspec": {
      "name": "python3",
      "display_name": "Python 3"
    },
    "language_info": {
      "name": "python"
    }
  },
  "cells": [
    {
      "cell_type": "markdown",
      "metadata": {
        "id": "view-in-github",
        "colab_type": "text"
      },
      "source": [
        "<a href=\"https://colab.research.google.com/github/ramonVDAKKER/teaching-quantitative-finance/blob/main/notebooks/illustration_black_scholes_price.ipynb\" target=\"_parent\"><img src=\"https://colab.research.google.com/assets/colab-badge.svg\" alt=\"Open In Colab\"/></a>"
      ]
    },
    {
      "cell_type": "markdown",
      "metadata": {
        "id": "-v4ad1zTnkkI"
      },
      "source": [
        "# Illustration Black-Scholes prices for European call and put options"
      ]
    },
    {
      "cell_type": "code",
      "metadata": {
        "id": "9Tz_55KznnXB"
      },
      "source": [
        "import numpy as np\n",
        "import pandas as pd\n",
        "from scipy.stats import norm\n",
        "from ipywidgets import interact\n",
        "import matplotlib.pyplot as plt"
      ],
      "execution_count": null,
      "outputs": []
    },
    {
      "cell_type": "markdown",
      "metadata": {
        "id": "TOxfUq6Znn6s"
      },
      "source": [
        "In the standard Black-Scholes market two assets are traded. A risky asset (stock) is traded with price process described by the SDE \n",
        "$$dS_t = \\mu S_t dt +\\sigma S_t dW_t,$$ where $S_0=s_0$, $W$ is a standard Brownian motion, and $\\mu,\\sigma>0$. The second asset is a money-market-account described by $dB_t = r B_t dt$ where $r$ denotes the (deterministic) interest. As usual, 'frictionless' trading is assumed (no restrictions on short selling, no restrictions on fractional positions, trading in continuous-time, no transaction costs). \n",
        "\n",
        "Under these assumptions the price of a European put option, at time $t\\in[0, T)$, with (remaining) time-to-expiration/maturity $T-t$ and strike $K>0$ is given by\n",
        "$$p_t = \\operatorname{e}^{-r(T-t)}  K \\Phi( -d_2) - S_t \\Phi ( - d_1),$$\n",
        "where\n",
        "$$d_1 = \\frac{\\log( S_t / K) + ( r + 0.5\\sigma^2 )( T-t)}{\\sigma \\sqrt{T-t}}\n",
        "\\text{ and }   d_2 = d_1 - \\sigma \\sqrt{T-t}.$$\n",
        "And the price of a call option (with the same specs) is given by\n",
        "$$c_t = S_t \\Phi(d_1) - \\operatorname{e}^{-r(T-t)}  K \\Phi( d_2).$$\n",
        "\n",
        "Please note that we can write $c_t = f(T-t, S_t)$ and $p_t =g(T-t,S_t)$ for suitable functions $f$ and $g$."
      ]
    },
    {
      "cell_type": "code",
      "source": [
        "class BlackScholesOptionPrice():\n",
        "    \"\"\"Class for Black-Scholes price of European put and call options.\"\"\"\n",
        "\n",
        "    def __init__(self, strike: float, r: float, sigma: float):\n",
        "        \n",
        "        self.r = r\n",
        "        self.sigma = sigma\n",
        "        self.strike = strike\n",
        "\n",
        "    def _d1_and_d2(self, current_stock_price, time_to_maturity):\n",
        "        \"\"\"Calculates auxiliary d_1 and d_2 which enter the N(0, 1) cdf in the pricing formulas\"\"\"\n",
        "        \n",
        "        d1 = (np.log(current_stock_price / self.strike) + (self.r + 0.5 * self.sigma ** 2) * time_to_maturity) / (self.sigma * np.sqrt(time_to_maturity))\n",
        "        d2 = d1 - self.sigma * np.sqrt(time_to_maturity)\n",
        "        return d1, d2\n",
        "\n",
        "    def price_put(self, current_stock_price, time_to_maturity):\n",
        "        \"\"\"Calculates price of European put option\"\"\"\n",
        "\n",
        "        d1, d2 = self._d1_and_d2(current_stock_price, time_to_maturity)\n",
        "        return np.exp(-self.r * time_to_maturity) * self.strike * norm.cdf(-d2) - current_stock_price * norm.cdf(-d1)\n",
        "\n",
        "    def price_call(self, current_stock_price, time_to_maturity):\n",
        "        \"\"\"Calculates price of European call option\"\"\"\n",
        "\n",
        "        d1, d2 = self._d1_and_d2(current_stock_price, time_to_maturity)\n",
        "        return current_stock_price * norm.cdf(d1) - np.exp(-self.r * time_to_maturity) * self.strike *  norm.cdf(d2)"
      ],
      "metadata": {
        "id": "9siT9uR_tK7w"
      },
      "execution_count": null,
      "outputs": []
    },
    {
      "cell_type": "code",
      "source": [
        "strike = 100\n",
        "r = 0.02\n",
        "sigma = 0.2\n",
        "current_stock_price = 100\n",
        "time_to_maturity = 1\n",
        "bs = BlackScholesOptionPrice(strike, r, sigma)\n",
        "price = bs.price_put(current_stock_price, time_to_maturity)\n",
        "print(f\"Price of put for strike={strike}, r={100 * r}%, sigma={100 * sigma}%, S_t={current_stock_price}, T-t={time_to_maturity}: {np.round(price , 2)}\")"
      ],
      "metadata": {
        "id": "2UAk_RD8u45X"
      },
      "execution_count": null,
      "outputs": []
    },
    {
      "cell_type": "markdown",
      "source": [
        "In the following plot we fix the time-to-maturity/expiration and consider the price of the call option as function of the current stock price."
      ],
      "metadata": {
        "id": "cd1da_0bzuY5"
      }
    },
    {
      "cell_type": "code",
      "source": [
        "@interact(r=(0, 0.1, 0.03), sigma=(0.01, 0.8), strike=(50, 110), time_to_maturity=(0.01, 2))\n",
        "def aux_plot(strike, r, sigma, time_to_maturity):\n",
        "    bs = BlackScholesOptionPrice(strike, r, sigma)\n",
        "    current_stock_price = np.linspace(0.01, 200, 2000)\n",
        "    price = bs.price_put(current_stock_price, time_to_maturity)\n",
        "    pd.Series(price, index=current_stock_price).plot(figsize=(25, 7), title=f\"Price put option as function of $S_t$, r={100 * r}%, sigma={100 * sigma}%, K={strike}, T-t={time_to_maturity}\", xlabel=\"S_t\", ylabel=\"put price\")"
      ],
      "metadata": {
        "id": "AFY7L-4Gziwt"
      },
      "execution_count": null,
      "outputs": []
    },
    {
      "cell_type": "markdown",
      "source": [
        "In the following plots we first simulate paths of a Geometric Brownian motion, on $[0,T]$, and evaluate the evolution of the price of a put option."
      ],
      "metadata": {
        "id": "GwV5-KOm3-BO"
      }
    },
    {
      "cell_type": "code",
      "source": [
        "class GeometricBrownianMotion():\n",
        "    \"\"\"Class to simulate paths of a Geometric Brownian motion, i.e. X_t=X_0\\exp((mu-0.5sigma^2)t+sigma*W_t)\"\"\"\n",
        "\n",
        "    def __init__(self, starting_value, mu, sigma, n, T, time_step, seed=None):\n",
        "\n",
        "        self.name = \"Geometric Brownian Motion\"\n",
        "        self.n = n\n",
        "        self.T = T\n",
        "        self.starting_value = starting_value\n",
        "        self.time_grid, self.time_step = np.linspace(\n",
        "            0, self.T, num=1 + int(T / time_step), endpoint=True, retstep=True\n",
        "        )  # note that time_step is adapted (if needed) in order to get equally-spaced grid\n",
        "        if seed is not None:\n",
        "            np.random.seed(seed)\n",
        "        aux = np.random.normal(loc=0.0, scale=1.0, size=(self.n, len(self.time_grid)-1))\n",
        "        aux = np.concatenate([np.zeros((self.n, 1)), aux], axis=1)\n",
        "        W = (\n",
        "            np.cumsum(sigma * np.sqrt(time_step) * aux, axis=1) \n",
        "        )\n",
        "        self.paths = starting_value * np.exp( (mu - 0.5 * sigma ** 2) * self.time_grid + W)\n",
        "    \n",
        "    def plot(self):\n",
        "\n",
        "        title = f\"Simulated sample paths from GBM\"\n",
        "        pd.DataFrame(\n",
        "            self.paths.T,\n",
        "            columns=[f\"path {j}\" for j in range(1, 1 + len(self.paths))],\n",
        "            index=self.time_grid,\n",
        "        ).plot(kind=\"line\", title=title, figsize=(25, 7))\n"
      ],
      "metadata": {
        "id": "pxtocX9_317h"
      },
      "execution_count": null,
      "outputs": []
    },
    {
      "cell_type": "code",
      "source": [
        "# option parameters:\n",
        "strike = 80\n",
        "T = 1\n",
        "# stock price parameters:\n",
        "starting_value = 100\n",
        "mu = 0.1\n",
        "sigma = 0.3\n",
        "r = 0.02\n",
        "# simulation setting:\n",
        "n = 15\n",
        "time_step = 0.001\n",
        "gbm = GeometricBrownianMotion(starting_value, mu, sigma, n, T, time_step, seed=None)\n",
        "gbm.plot()\n",
        "plt.axhline(strike)\n",
        "bs = BlackScholesOptionPrice(strike, r, sigma)\n",
        "price = bs.price_put(gbm.paths, T - gbm.time_grid)\n",
        "pd.DataFrame(price.T, index=gbm.time_grid, columns=[f\"path {j}\" for j in range(1, 1 + len(gbm.paths))]).plot(figsize=(25, 7), title=f\"Price of put with T={T}, K={K} evaluated on scenarios above\")"
      ],
      "metadata": {
        "id": "mnRfDwv75WHr"
      },
      "execution_count": null,
      "outputs": []
    },
    {
      "cell_type": "code",
      "source": [],
      "metadata": {
        "id": "sGhzMcHYwINM"
      },
      "execution_count": null,
      "outputs": []
    }
  ]
}