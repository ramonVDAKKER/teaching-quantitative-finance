{
  "cells": [
    {
      "cell_type": "markdown",
      "metadata": {
        "id": "view-in-github",
        "colab_type": "text"
      },
      "source": [
        "<a href=\"https://colab.research.google.com/github/ramonVDAKKER/teaching-quantitative-finance/blob/main/notebooks/illustration_discrete_time_delta_hedging.ipynb\" target=\"_parent\"><img src=\"https://colab.research.google.com/assets/colab-badge.svg\" alt=\"Open In Colab\"/></a>"
      ]
    },
    {
      "cell_type": "markdown",
      "metadata": {
        "id": "A2qYzkdgY6TC"
      },
      "source": [
        "# Notebook illustration discrete-time implementation of delta-hedging strategy"
      ]
    },
    {
      "cell_type": "markdown",
      "metadata": {
        "id": "u9caKyr2QvN9"
      },
      "source": [
        "## 0. Imports"
      ]
    },
    {
      "cell_type": "code",
      "execution_count": null,
      "metadata": {
        "id": "mmCjQgxMRIfw"
      },
      "outputs": [],
      "source": [
        "%matplotlib inline\n",
        "import numpy as np\n",
        "import pandas as pd\n",
        "from scipy.stats import norm\n",
        "import matplotlib.pyplot as plt"
      ]
    },
    {
      "cell_type": "code",
      "execution_count": null,
      "metadata": {
        "id": "AFNPc6mKRViP"
      },
      "outputs": [],
      "source": [
        "%%capture\n",
        "!git clone https://github.com/ramonVDAKKER/teaching-quantitative-finance\n",
        "import os\n",
        "os.chdir(\"teaching-quantitative-finance/notebooks\")\n",
        "from utils.black_scholes import BlackScholesOptionPrice"
      ]
    },
    {
      "cell_type": "markdown",
      "metadata": {
        "id": "f92CAxIVZSXl"
      },
      "source": [
        "## 1. Example discrete-time delta-hedging\n",
        "\n",
        "The setup is as follows:\n",
        "*   we adopt the standard models for $B$ and $S$;\n",
        "*   we consider a situation in which we are only allowed to trade on a discrete-time grid;\n",
        "*   financial institution that has a position of $a$ put options with exercise price $K$ and maturity $T$ at $t=0$ (in case $a<0$ the institution sells (writes) the puts, in case $a>0$ the institution buys the options);\n",
        "*   we will evaluate two strategies:\n",
        "    1.   No active risk management: the institution takes no actions apart from investing $-a p_0$, with $p_0$ the price of one put at $t=0$, in the money-market-account $B$. This implies that there are no net cashflows in the time interval $[0,T)$. And at maturity $T$ the net cashflow equals $a\\times (\\max(K-S_T, 0) - p_0 \\exp(rT))$ at maturity. \n",
        "    2.   Delta-hedging: the institution trades in $S$ and $B$, at each point-in-time (on the discrete grid), such that a) the total portfolio (of the puts and the positions in $S$ and $B$) is delta-neutral and b) the rebalancing of the positions in $S$ and $B$ is budget-neutral.\n",
        "\n",
        "*Remark:* Please recall that an implementation of 2) in continuous-time would imply that the total portfolio has value 0 at each point in time $t\\in [0, T]$. This means that the institution would be able to take the position in the put (to serve its clients) without bearing any risk.\n",
        "\n",
        "\n"
      ]
    },
    {
      "cell_type": "markdown",
      "metadata": {
        "id": "mxENgCe9VgAp"
      },
      "source": [
        "### Parameters"
      ]
    },
    {
      "cell_type": "code",
      "execution_count": null,
      "metadata": {
        "id": "v86IzExpR55o"
      },
      "outputs": [],
      "source": [
        "# granularity time grid [number of points per unit-of-time [=1 year]]:\n",
        "num_time_steps_per_unit_of_time = 250\n",
        "# parameters GBM for S:\n",
        "S_0 = 100\n",
        "mu = 0.05\n",
        "sigma = 0.20\n",
        "# parameters B:\n",
        "B_0 = 1\n",
        "r = 0.01\n",
        "# put option specs:\n",
        "T = 1\n",
        "K = 90\n",
        "num_puts = - 1000 # negative=instution writes puts (for client who wants to buy put), positive=institution buys puts (for client who wants to write put) "
      ]
    },
    {
      "cell_type": "markdown",
      "metadata": {
        "id": "ywMprHR_TkBH"
      },
      "source": [
        "The following function implements the discrete-time delta hedging strategy as descibred above."
      ]
    },
    {
      "cell_type": "code",
      "execution_count": null,
      "metadata": {
        "id": "T2pqYl1kKGCf"
      },
      "outputs": [],
      "source": [
        "def writing_put_option_delta_hedge_discrete_time(K: float, T: float, S_0: float, mu: float, sigma: float,\n",
        "                                                 B_0: float, r: float, num_time_steps_per_unit_of_time: int,\n",
        "                                                num_puts: int\n",
        "                                                 ):\n",
        "\n",
        "    num_time_steps_total = int(T * num_time_steps_per_unit_of_time)\n",
        "    time_delta = T / num_time_steps_total\n",
        "    # intitialize variables:\n",
        "    phi = np.zeros(num_time_steps_total + 1)\n",
        "    psi = np.zeros(num_time_steps_total + 1)\n",
        "    phi[-1] = np.nan\n",
        "    psi[-1] = np.nan\n",
        "    price_puts = np.zeros(num_time_steps_total + 1)\n",
        "    S = np.zeros(num_time_steps_total + 1)\n",
        "    S[0] = S_0\n",
        "    B = np.zeros(num_time_steps_total + 1)\n",
        "    B[0] = B_0\n",
        "    total_portfolio_value = np.zeros(num_time_steps_total + 1)\n",
        "    put = BlackScholesOptionPrice(K, r, sigma)\n",
        "    time = np.linspace(0, T, num_time_steps_total + 1)\n",
        "    # determine initial positions:\n",
        "    put_price_initial = put.price_put(current_stock_price=S_0, time_to_maturity=T)\n",
        "    price_puts[0] = num_puts * put_price_initial\n",
        "    phi[0] = - num_puts * put.delta_put(current_stock_price=S_0, time_to_maturity=T) # make total portfolio delta-neutral\n",
        "    psi[0] = - (price_puts[0] + phi[0] * S[0]) / B[0]\n",
        "    total_portfolio_value[0] = price_puts[0] + phi[0] * S[0] + psi[0] * B[0] # 0 by construction\n",
        "    # iterate over discrete-time grid:\n",
        "    for k in range(1, num_time_steps_total + 1):\n",
        "        # new asset prices:\n",
        "        B[k] = B[k - 1] * np.exp(r * time_delta)\n",
        "        S[k] = S[k - 1] * np.exp((mu - 0.5 * sigma ** 2) * time_delta + sigma * np.sqrt(time_delta) * norm.rvs())\n",
        "        # current value of (S,B) portfolio from previous point-in-time (below we will rebalance):\n",
        "        value = phi[k - 1] * S[k] + psi[k - 1] * B[k]\n",
        "        # new value puts:\n",
        "        if time[k] == T:\n",
        "            price_puts[k] =  num_puts * np.maximum(K - S[k], 0)\n",
        "            total_portfolio_value[k] = price_puts[k] + value\n",
        "            break \n",
        "        price_puts[k] = num_puts * put.price_put(current_stock_price=S[k], time_to_maturity=T - time[k])\n",
        "        # determine new position S for next interval (such that combination of (S, B)-portfolio and \n",
        "        # puts is delta-neutral):\n",
        "        phi[k] =  - num_puts * put.delta_put(current_stock_price=S[k], time_to_maturity=T - time[k])\n",
        "        # determine new position B, such that there is no net cashflow in (S, B)-portfolio:\n",
        "        psi[k] = (value - phi[k] * S[k]) / B[k]\n",
        "        # mismatch between discrete-time delta-neutral, self-financing portfolio and price puts:\n",
        "        total_portfolio_value[k] = price_puts[k] + phi[k] * S[k] + psi[k] * B[k]\n",
        "    return time, S, B, phi, psi, price_puts, total_portfolio_value"
      ]
    },
    {
      "cell_type": "code",
      "execution_count": null,
      "metadata": {
        "id": "8caOBBoHTnFC"
      },
      "outputs": [],
      "source": [
        "time, S, B, phi, psi, price_puts, total_portfolio_value = writing_put_option_delta_hedge_discrete_time(K, T, S_0, mu, sigma,\n",
        "                                                 B_0, r, num_time_steps_per_unit_of_time,\n",
        "                                                num_puts\n",
        "                                                 )\n",
        "df = pd.DataFrame(data = np.array([time, S, B, phi, psi, price_puts, total_portfolio_value]).T, columns=[\"t\", \"S\", \"B\",\n",
        "                                \"position S\", \"position B\", \"num_puts * put_price\", \"total_portfolio_value\"])\n",
        "fig, ax = plt.subplots(2, 3, figsize=(25, 10))\n",
        "df.plot(x=\"t\", y=\"B\", title=\"path B\", ax=ax[0, 0])\n",
        "df.plot(x=\"t\", y=\"S\", title=\"path S (red=strike puts)\", ax=ax[0, 1])\n",
        "ax[0, 1].axhline(y=K, color=\"r\")\n",
        "df.plot(x=\"t\", y=\"num_puts * put_price\", title=f\"value {num_puts} puts\", ax=ax[0, 2])\n",
        "df.iloc[:-1].plot(x=\"t\", y=\"position B\", title=\"path psi (position B)\", ax=ax[1, 0])\n",
        "df.iloc[:-1].plot(x=\"t\", y=\"position S\", title=\"path phi (position S)\", ax=ax[1, 1])\n",
        "df.plot(x=\"t\", y=\"total_portfolio_value\", title=\"mismatch\", ax=ax[1, 2])"
      ]
    },
    {
      "cell_type": "code",
      "execution_count": null,
      "metadata": {
        "id": "_KxCSQ2yoxqK"
      },
      "outputs": [],
      "source": [
        "print(f\"Total value of {num_puts} puts at t=0: {price_puts[0]}\")"
      ]
    },
    {
      "cell_type": "markdown",
      "metadata": {
        "id": "8aAyZYy1fAdo"
      },
      "source": [
        "Next we use Monte Carlo simulations (replications) to approximate the distribution of the total portfolio value (consisting of the puts and the positions in $S$ and $B$) at maturity $T$. We also determine the distribution corresponding to strategy 1).\n",
        "\n",
        "**Remark:** please note that the implementation is very slow due to the use of a for-loop. In your own programs (for the assignment) you should try to avoid loops."
      ]
    },
    {
      "cell_type": "code",
      "execution_count": null,
      "metadata": {
        "id": "S3WjRn4TS7kb"
      },
      "outputs": [],
      "source": [
        "M  = 1000 # number of Monte Carlo replications\n",
        "strategy_no_risk_management = np.zeros(M)\n",
        "strategy_delta_hedge = np.zeros(M)\n",
        "sims_S = np.zeros(M)\n",
        "sims_C = np.zeros(M)\n",
        "\n",
        "for sim in range(M):\n",
        "    _, S, _, _, _, price_puts, total_portfolio_value = writing_put_option_delta_hedge_discrete_time(K, T, S_0, mu, sigma,\n",
        "                                                 B_0, r, num_time_steps_per_unit_of_time, num_puts)\n",
        "    sims_S[sim] = S[-1]\n",
        "    sims_C[sim] = price_puts[-1] / num_puts\n",
        "    strategy_no_risk_management[sim] = price_puts[-1] - price_puts[0] * np.exp(r * T)  \n",
        "    strategy_delta_hedge[sim] = total_portfolio_value[-1]"
      ]
    },
    {
      "cell_type": "code",
      "execution_count": null,
      "metadata": {
        "id": "C2cPOgt5qaCV"
      },
      "outputs": [],
      "source": [
        "fig, axs = plt.subplots(2, 2, figsize=(25, 7))\n",
        "pd.DataFrame(sims_S).plot(kind=\"density\", ax=axs[0, 0], title=\"Distribution $S_T$\")\n",
        "pd.DataFrame(sims_C).plot(kind=\"hist\", ax=axs[0, 1], title=\"Distribution $C_T$\", bins=25, density=True)\n",
        "pd.DataFrame(strategy_no_risk_management).plot(kind=\"hist\", ax=axs[1, 0], title=\"Distribution net cashflow at maturity for strategy 1 (no active risk management\", bins=25, density=True)\n",
        "pd.DataFrame(strategy_delta_hedge).plot(kind=\"hist\", ax=axs[1, 1], title=\"Distribution net cashflow at maturity for discrete-time delta-hedging strategy\", bins=25, density=True)"
      ]
    }
  ],
  "metadata": {
    "colab": {
      "collapsed_sections": [],
      "provenance": [],
      "include_colab_link": true
    },
    "kernelspec": {
      "display_name": "Python 3",
      "name": "python3"
    },
    "language_info": {
      "name": "python"
    }
  },
  "nbformat": 4,
  "nbformat_minor": 0
}